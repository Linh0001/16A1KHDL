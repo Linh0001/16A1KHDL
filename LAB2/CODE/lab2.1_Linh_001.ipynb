{
 "cells": [
  {
   "cell_type": "code",
   "execution_count": 2,
   "metadata": {},
   "outputs": [],
   "source": [
    "import numpy as np"
   ]
  },
  {
   "cell_type": "code",
   "execution_count": 3,
   "metadata": {},
   "outputs": [
    {
     "name": "stdout",
     "output_type": "stream",
     "text": [
      "[19.35  8.23 25.09 22.38 19.92 10.12  8.42  4.51 27.97 39.1  18.83 39.14\n",
      " 14.76  0.77  6.54 16.66  5.34 33.77 14.2  23.46 39.72  1.17 33.07 10.97\n",
      " 30.5  11.72 39.46 24.76  4.22  0.72]\n",
      "Nhiệt độ trung bình: 18.5\n"
     ]
    }
   ],
   "source": [
    "# Tạo 1 mảng numpy mô phỏng nhiệt độ hàng ngày trong 1 tháng \n",
    "arr=np.random.uniform(0,40,30)\n",
    "\n",
    "#Làm tròn sau thập phân 2 số\n",
    "arr=np.round(arr,2)\n",
    "print(arr)\n",
    "\n",
    "#Tính nhiệt độ trung bình\n",
    "mean=np.mean(arr).round(2)\n",
    "print('Nhiệt độ trung bình:',mean)\n",
    "\n"
   ]
  },
  {
   "cell_type": "code",
   "execution_count": 4,
   "metadata": {},
   "outputs": [
    {
     "name": "stdout",
     "output_type": "stream",
     "text": [
      "Ngày có nhiệt độ cao nhất là ngày 21\n",
      "Ngày có nhiệt độ thấp nhất là ngày 30\n"
     ]
    }
   ],
   "source": [
    "#Ngày có nhiệt độ cao nhất\n",
    "ngay_cao_nhat=np.argmax(arr)+1\n",
    "ngay_thap_nhat=np.argmin(arr)+1\n",
    "print('Ngày có nhiệt độ cao nhất là ngày',ngay_cao_nhat)\n",
    "print('Ngày có nhiệt độ thấp nhất là ngày',ngay_thap_nhat)"
   ]
  },
  {
   "cell_type": "code",
   "execution_count": 5,
   "metadata": {},
   "outputs": [
    {
     "name": "stdout",
     "output_type": "stream",
     "text": [
      "Chênh lệch có nhiệt độ cao nhất là: -38.55\n",
      "Ngày chênh lệch cao nhất 21\n"
     ]
    }
   ],
   "source": [
    "ngay_truoc=arr[:-1]\n",
    "ngay_sau=arr[1:]\n",
    "chenh_lech=ngay_sau-ngay_truoc\n",
    "dff_max=np.argmax(np.abs(chenh_lech))+1\n",
    "max_chenh_lech=chenh_lech[dff_max-1]\n",
    "\n",
    "print('Chênh lệch có nhiệt độ cao nhất là:',max_chenh_lech)\n",
    "print('Ngày chênh lệch cao nhất',dff_max)"
   ]
  },
  {
   "cell_type": "code",
   "execution_count": 9,
   "metadata": {},
   "outputs": [
    {
     "name": "stdout",
     "output_type": "stream",
     "text": [
      "Những ngày có nhiệt độ trên 20 là:\n",
      " [ 3  4  9 10 12 18 20 21 23 25 27 28]\n"
     ]
    }
   ],
   "source": [
    "# Điều kiện\n",
    "condition=arr>20\n",
    "indices=np.where(condition)\n",
    "day_indices=indices[0]\n",
    "days_above_20_separated = day_indices+1\n",
    "print('Những ngày có nhiệt độ trên 20 là:\\n',days_above_20_separated)"
   ]
  }
 ],
 "metadata": {
  "kernelspec": {
   "display_name": "Python 3",
   "language": "python",
   "name": "python3"
  },
  "language_info": {
   "codemirror_mode": {
    "name": "ipython",
    "version": 3
   },
   "file_extension": ".py",
   "mimetype": "text/x-python",
   "name": "python",
   "nbconvert_exporter": "python",
   "pygments_lexer": "ipython3",
   "version": "3.11.5"
  }
 },
 "nbformat": 4,
 "nbformat_minor": 2
}
