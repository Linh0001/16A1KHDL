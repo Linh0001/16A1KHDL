{
 "cells": [
  {
   "cell_type": "code",
   "execution_count": 1,
   "metadata": {},
   "outputs": [],
   "source": [
    "import numpy as np"
   ]
  },
  {
   "cell_type": "code",
   "execution_count": 5,
   "metadata": {},
   "outputs": [
    {
     "name": "stdout",
     "output_type": "stream",
     "text": [
      "[16.12 18.95 33.23  8.26 32.45 35.24 26.77  8.43 29.67 27.42 11.47  8.51\n",
      "  1.92 39.12 36.74 22.31 18.55 34.12  2.45 28.71 11.6   0.87 26.57  1.04\n",
      " 19.73 39.92 12.72 15.47 39.09 12.47]\n",
      "Nhiệt độ trung bình: 20.66\n"
     ]
    }
   ],
   "source": [
    "# Tạo 1 mảng numpy mô phỏng nhiệt độ hàng ngày trong 1 tháng \n",
    "arr=np.random.uniform(0,40,30)\n",
    "\n",
    "#Làm tròn sau thập phân 2 số\n",
    "arr=np.round(arr,2)\n",
    "print(arr)\n",
    "\n",
    "#Tính nhiệt độ trung bình\n",
    "mean=np.mean(arr).round(2)\n",
    "print('Nhiệt độ trung bình:',mean)\n",
    "\n"
   ]
  },
  {
   "cell_type": "code",
   "execution_count": 6,
   "metadata": {},
   "outputs": [
    {
     "name": "stdout",
     "output_type": "stream",
     "text": [
      "Ngày có nhiệt độ cao nhất là ngày  26\n",
      "Ngày có nhiệt độ thấp nhất là ngày  22\n"
     ]
    }
   ],
   "source": [
    "#Ngày có nhiệt độ cao nhất\n",
    "ngay_cao_nhat=np.argmax(arr)+1\n",
    "ngay_thap_nhat=np.argmin(arr)+1\n",
    "print('Ngày có nhiệt độ cao nhất là ngày',ngay_cao_nhat)\n",
    "print('Ngày có nhiệt độ thấp nhất là ngày',ngay_thap_nhat)"
   ]
  },
  {
   "cell_type": "code",
   "execution_count": 19,
   "metadata": {},
   "outputs": [
    {
     "name": "stdout",
     "output_type": "stream",
     "text": [
      "Chênh lệch có nhiệt độ cao nhất là: 37.199999999999996\n",
      "Ngày chênh lệch cao nhất 13\n"
     ]
    }
   ],
   "source": [
    "ngay_truoc=arr[:-1]\n",
    "ngay_sau=arr[1:]\n",
    "chenh_lech=ngay_sau-ngay_truoc\n",
    "dff_max=np.argmax(np.abs(chenh_lech))+1\n",
    "max_chenh_lech=chenh_lech[dff_max-1]\n",
    "\n",
    "print('Chênh lệch có nhiệt độ cao nhất là:',max_chenh_lech)\n",
    "print('Ngày chênh lệch cao nhất',dff_max)"
   ]
  },
  {
   "cell_type": "code",
   "execution_count": null,
   "metadata": {},
   "outputs": [],
   "source": [
    "# Điều kiện\n",
    "condition=arr>20"
   ]
  }
 ],
 "metadata": {
  "kernelspec": {
   "display_name": "Python 3",
   "language": "python",
   "name": "python3"
  },
  "language_info": {
   "codemirror_mode": {
    "name": "ipython",
    "version": 3
   },
   "file_extension": ".py",
   "mimetype": "text/x-python",
   "name": "python",
   "nbconvert_exporter": "python",
   "pygments_lexer": "ipython3",
   "version": "3.11.5"
  }
 },
 "nbformat": 4,
 "nbformat_minor": 2
}
