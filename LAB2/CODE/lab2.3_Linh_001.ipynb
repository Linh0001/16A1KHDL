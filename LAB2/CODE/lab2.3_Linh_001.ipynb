{
 "cells": [
  {
   "cell_type": "code",
   "execution_count": 2,
   "metadata": {},
   "outputs": [],
   "source": [
    "import numpy as np"
   ]
  },
  {
   "cell_type": "code",
   "execution_count": 3,
   "metadata": {},
   "outputs": [],
   "source": [
    "# Đọc dữ liệu từ 2 tập tin efficiency.txt và shifts.txt \n",
    "with open('D:/16A1HN/LAB2/DATA/efficiency.txt', 'r') as f:\n",
    "    efficiency=[]\n",
    "    for line in f:   \n",
    "        efficiency.append(float(line.strip()))\n",
    "with open('D:/16A1HN/LAB2/DATA/shifts.txt', 'r') as f:\n",
    "    shifts=[]\n",
    "    for line in f:\n",
    "        shifts.append(line.strip())"
   ]
  },
  {
   "cell_type": "code",
   "execution_count": 4,
   "metadata": {},
   "outputs": [
    {
     "data": {
      "text/plain": [
       "([94.0, 97.0, 114.0, 117.0, 117.0],\n",
       " ['Afternoon', 'Afternoon', 'Afternoon', 'Morning', 'Afternoon'])"
      ]
     },
     "execution_count": 4,
     "metadata": {},
     "output_type": "execute_result"
    }
   ],
   "source": [
    "#Kiểm tra 1 phần dữ liệu\n",
    "\n",
    "efficiency[:5],shifts[:5]"
   ]
  },
  {
   "cell_type": "code",
   "execution_count": 5,
   "metadata": {},
   "outputs": [
    {
     "name": "stdout",
     "output_type": "stream",
     "text": [
      "[ 94.  97. 114. 117. 117.  59. 133.  71.  86. 137. 120. 138. 138.  62.\n",
      " 108. 115.  89. 137.  96. 138. 131.  87.  75. 127. 122.  59.  70. 130.\n",
      " 119. 129.  97. 114. 132. 149. 138.  99.  79.  69.  69.  64.  89.  82.\n",
      " 115.  59. 107.  82.  81. 124.  73.  85. 125. 105.  78.  84.  50.  50.\n",
      "  86. 103.  55.  88.  67. 129.  54.  92. 108.  81.  51. 115.  91. 107.\n",
      "  85.  61.  96. 132. 141.  50.  64. 149. 103.  62.  92. 134. 125. 118.\n",
      "  56. 118.  97.  53. 126. 102. 128.  65.  70. 149. 108.  73. 129.  63.\n",
      " 135.  98.]\n",
      "Kiểu dữ liệu: float64\n"
     ]
    }
   ],
   "source": [
    "#Tạo numpy array np_efficiency và kiểm tra kiểu dữ liệu\n",
    "np_efficiency=np.array(efficiency)\n",
    "print(np_efficiency)\n",
    "print('Kiểu dữ liệu:',np_efficiency.dtype)\n"
   ]
  },
  {
   "cell_type": "code",
   "execution_count": 6,
   "metadata": {},
   "outputs": [
    {
     "name": "stdout",
     "output_type": "stream",
     "text": [
      "['Afternoon' 'Afternoon' 'Afternoon' 'Morning' 'Afternoon' 'Night'\n",
      " 'Morning' 'Afternoon' 'Night' 'Morning' 'Night' 'Morning' 'Afternoon'\n",
      " 'Night' 'Night' 'Afternoon' 'Morning' 'Afternoon' 'Afternoon' 'Morning'\n",
      " 'Night' 'Night' 'Night' 'Night' 'Afternoon' 'Night' 'Night' 'Night'\n",
      " 'Night' 'Night' 'Morning' 'Afternoon' 'Night' 'Night' 'Afternoon' 'Night'\n",
      " 'Afternoon' 'Morning' 'Night' 'Night' 'Morning' 'Night' 'Morning'\n",
      " 'Morning' 'Night' 'Morning' 'Night' 'Night' 'Night' 'Morning' 'Morning'\n",
      " 'Morning' 'Afternoon' 'Night' 'Morning' 'Afternoon' 'Night' 'Night'\n",
      " 'Night' 'Afternoon' 'Morning' 'Morning' 'Morning' 'Morning' 'Night'\n",
      " 'Night' 'Morning' 'Morning' 'Morning' 'Afternoon' 'Night' 'Morning'\n",
      " 'Morning' 'Afternoon' 'Morning' 'Night' 'Afternoon' 'Afternoon'\n",
      " 'Afternoon' 'Morning' 'Morning' 'Morning' 'Afternoon' 'Afternoon' 'Night'\n",
      " 'Afternoon' 'Morning' 'Morning' 'Afternoon' 'Night' 'Afternoon'\n",
      " 'Afternoon' 'Afternoon' 'Morning' 'Morning' 'Morning' 'Afternoon' 'Night'\n",
      " 'Afternoon' 'Afternoon']\n",
      "Kiểu dữ liệu: <U9\n"
     ]
    }
   ],
   "source": [
    "#Tạo numpy array np_shifts và kiểm tra kiểu dữ liệu\n",
    "np_shifts=np.array(shifts)\n",
    "print(np_shifts)\n",
    "print('Kiểu dữ liệu:',np_shifts.dtype)"
   ]
  },
  {
   "cell_type": "code",
   "execution_count": 7,
   "metadata": {},
   "outputs": [
    {
     "data": {
      "text/plain": [
       "96.8529411764706"
      ]
     },
     "execution_count": 7,
     "metadata": {},
     "output_type": "execute_result"
    }
   ],
   "source": [
    "#4\n",
    "morning_mask=np_shifts=='Morning'\n",
    "\n",
    "#Lọc dữ liệu và hiệu suất ca 'morning'\n",
    "hieu_suat_morning=np_efficiency[morning_mask]\n",
    "\n",
    "#Tính hiệu suất trung bình\n",
    "hieu_suat_tb_morning=np.mean(hieu_suat_morning)\n",
    "hieu_suat_tb_morning"
   ]
  },
  {
   "cell_type": "code",
   "execution_count": 8,
   "metadata": {},
   "outputs": [
    {
     "data": {
      "text/plain": [
       "98.93939393939394"
      ]
     },
     "execution_count": 8,
     "metadata": {},
     "output_type": "execute_result"
    }
   ],
   "source": [
    "#5\n",
    "#Tạo mặt nạ 'mask' những nhân viên không ở ca 'morning'\n",
    "non_morning=np_shifts!='Morning'\n",
    "#Lọc dữ liệu và hiệu suất ca 'morning'\n",
    "hieu_suat_non_morning=np_efficiency[non_morning]\n",
    "\n",
    "#Tính hiệu suất trung bình\n",
    "hieu_suat_tb_non_morning=np.mean(hieu_suat_non_morning)\n",
    "hieu_suat_tb_non_morning"
   ]
  },
  {
   "cell_type": "code",
   "execution_count": 9,
   "metadata": {},
   "outputs": [
    {
     "data": {
      "text/plain": [
       "array([('Afternoon',  94.), ('Afternoon',  97.), ('Afternoon', 114.),\n",
       "       ('Morning', 117.), ('Afternoon', 117.)],\n",
       "      dtype=[('shifts', '<U10'), ('efficiency', '<f8')])"
      ]
     },
     "execution_count": 9,
     "metadata": {},
     "output_type": "execute_result"
    }
   ],
   "source": [
    "#6\n",
    "dtype=[('shifts','U10'),('efficiency',float)]\n",
    "\n",
    "workers= np.array(list(zip(shifts,efficiency)),dtype=dtype)\n",
    "\n",
    "workers[:5]"
   ]
  },
  {
   "cell_type": "markdown",
   "metadata": {},
   "source": [
    "7.Sắp xếp mảng workers theo efficiency, và xác định ca làm việc nào có hiệu suất cao nhất\n",
    "và thấp nhất"
   ]
  },
  {
   "cell_type": "code",
   "execution_count": 11,
   "metadata": {},
   "outputs": [
    {
     "name": "stdout",
     "output_type": "stream",
     "text": [
      "[('Afternoon', 50.) ('Morning', 50.) ('Night', 50.) ('Morning', 51.)\n",
      " ('Morning', 53.) ('Morning', 54.) ('Night', 55.) ('Night', 56.)\n",
      " ('Morning', 59.) ('Night', 59.)]\n",
      "Night Afternoon\n"
     ]
    }
   ],
   "source": [
    "sorted_worker=np.sort(workers,order='efficiency')\n",
    "\n",
    "Hieu_suat_max=sorted_worker[-1]['shifts']\n",
    "Hieu_suat_min=sorted_worker[0]['shifts']\n",
    "\n",
    "print(sorted_worker[:10])\n",
    "print(Hieu_suat_max,Hieu_suat_min)"
   ]
  }
 ],
 "metadata": {
  "kernelspec": {
   "display_name": "Python 3",
   "language": "python",
   "name": "python3"
  },
  "language_info": {
   "codemirror_mode": {
    "name": "ipython",
    "version": 3
   },
   "file_extension": ".py",
   "mimetype": "text/x-python",
   "name": "python",
   "nbconvert_exporter": "python",
   "pygments_lexer": "ipython3",
   "version": "3.11.5"
  }
 },
 "nbformat": 4,
 "nbformat_minor": 2
}
